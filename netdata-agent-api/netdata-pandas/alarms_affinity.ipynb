{
 "metadata": {
  "language_info": {
   "codemirror_mode": {
    "name": "ipython",
    "version": 3
   },
   "file_extension": ".py",
   "mimetype": "text/x-python",
   "name": "python",
   "nbconvert_exporter": "python",
   "pygments_lexer": "ipython3",
   "version": "3.8.1-final"
  },
  "orig_nbformat": 2,
  "kernelspec": {
   "name": "python3",
   "display_name": "Python 3.8.1 64-bit ('venv')",
   "metadata": {
    "interpreter": {
     "hash": "f898777614c9e76283339cd3ad97bf2702d60cb6d5263ff41e85acecd6462b41"
    }
   }
  }
 },
 "nbformat": 4,
 "nbformat_minor": 2,
 "cells": [
  {
   "cell_type": "code",
   "execution_count": 1,
   "metadata": {},
   "outputs": [],
   "source": [
    "from datetime import datetime, timedelta\n",
    "import time\n",
    "from netdata_pandas.data import get_alarm_log\n",
    "import pandas as pd\n",
    "from mlxtend.preprocessing import TransactionEncoder\n",
    "from mlxtend.frequent_patterns import apriori, fpgrowth, association_rules\n",
    "\n",
    "def print_itemsets(itemsets, mode='alarm', n_max=500):\n",
    "    print(f'-'*50)\n",
    "    print(f'{mode} itemsets')\n",
    "    print(f'-'*50)\n",
    "    i = 0\n",
    "    if len(itemsets) > 0:\n",
    "        for _, row in itemsets.iterrows():\n",
    "            if i <= n_max:\n",
    "                s = round(row.support*100,2)\n",
    "                ii = set(row.itemsets)\n",
    "                if mode == 'alarm':\n",
    "                    print(f'{s}% contained the alarms: {ii}')\n",
    "                elif mode == 'chart':\n",
    "                    print(f'{s}% related to the charts: {ii}')\n",
    "                i += 1\n",
    "            else:\n",
    "                continue\n",
    "    else:\n",
    "        print(None)\n",
    "\n",
    "\n",
    "def print_rules(rules, mode='alarm', n_max=500):\n",
    "    print(f'-'*50)\n",
    "    print(f'{mode} association rules')\n",
    "    print(f'-'*50)\n",
    "    i = 0\n",
    "    if len(rules) > 0:\n",
    "        for _, row in rules.iterrows():\n",
    "            if i <= n_max:\n",
    "                c = round(row.confidence*100,2)\n",
    "                s = round(row.support*100,2)\n",
    "                l = round(row.lift,2)\n",
    "                a_set = set(row.antecedents)\n",
    "                c_set = set(row.consequents)\n",
    "                print(f'{c}% probability that {a_set} -> {c_set} (co-occurrence={s}%, lift={l})')\n",
    "                i += 1\n",
    "            else:\n",
    "                continue\n",
    "    else:\n",
    "        print(None)"
   ]
  },
  {
   "cell_type": "code",
   "execution_count": 2,
   "metadata": {},
   "outputs": [],
   "source": [
    "# inputs\n",
    "host = 'london.my-netdata.io'\n",
    "window = '1m'\n",
    "min_support = 0.1   \n",
    "min_threshold = 0.1\n",
    "since_hours_ago = None # None or int\n",
    "last_n_alarms = 100 # None or int\n",
    "max_n = None"
   ]
  },
  {
   "cell_type": "code",
   "execution_count": 3,
   "metadata": {},
   "outputs": [
    {
     "output_type": "stream",
     "name": "stdout",
     "text": [
      "(422, 33)\n"
     ]
    }
   ],
   "source": [
    "# get alarm log data\n",
    "df = get_alarm_log(host)\n",
    "df = df[df['status'].isin(['WARNING', 'CRITICAL'])]\n",
    "df = df.sort_values('when')\n",
    "print(df.shape)"
   ]
  },
  {
   "cell_type": "code",
   "execution_count": 4,
   "metadata": {},
   "outputs": [
    {
     "output_type": "stream",
     "name": "stdout",
     "text": [
      "(100, 33)\n"
     ]
    }
   ],
   "source": [
    "if since_hours_ago:\n",
    "    df = df[df['when'] >= (datetime.now()-timedelta(hours=since_hours_ago))]\n",
    "\n",
    "if last_n_alarms:\n",
    "    df = df.tail(last_n_alarms).copy()\n",
    "\n",
    "print(df.shape)"
   ]
  },
  {
   "cell_type": "code",
   "execution_count": 5,
   "metadata": {},
   "outputs": [],
   "source": [
    "# make transactions dataset\n",
    "td = pd.Timedelta(window)\n",
    "f_alarm = lambda x, y: df.loc[df['when'].between(y - td, y + td), 'name'].tolist()\n",
    "df['alarm_basket'] = [f_alarm(k, v) for k, v in df['when'].items()]\n",
    "f_chart = lambda x, y: df.loc[df['when'].between(y - td, y + td), 'chart'].tolist()\n",
    "df['chart_basket'] = [f_chart(k, v) for k, v in df['when'].items()]\n",
    "\n",
    "if max_n:\n",
    "    if len(df) > max_n:\n",
    "        df = df.sample(max_n)\n",
    "        print(df.shape)\n",
    "\n",
    "alarm_dataset = df['alarm_basket'].values.tolist()\n",
    "chart_dataset = df['chart_basket'].values.tolist()"
   ]
  },
  {
   "cell_type": "code",
   "execution_count": 6,
   "metadata": {},
   "outputs": [],
   "source": [
    "# get some varialbes to print later\n",
    "n_alarms_analyzed = len(alarm_dataset)\n",
    "when_min = df['when'].min()\n",
    "when_max = df['when'].max()"
   ]
  },
  {
   "cell_type": "code",
   "execution_count": 7,
   "metadata": {},
   "outputs": [],
   "source": [
    "# alarm\n",
    "te_alarm = TransactionEncoder()\n",
    "te_ary_alarm = te_alarm.fit(alarm_dataset).transform(alarm_dataset)\n",
    "df_alarm_tx = pd.DataFrame(te_ary_alarm, columns=te_alarm.columns_)\n",
    "itemsets_alarm = fpgrowth(df_alarm_tx, min_support=min_support, use_colnames=True).sort_values('support', ascending=False)\n",
    "rules_alarm = association_rules(itemsets_alarm, metric=\"confidence\", min_threshold=min_threshold).sort_values('support', ascending=False)\n",
    "\n",
    "# chart\n",
    "te_chart = TransactionEncoder()\n",
    "te_ary_chart = te_chart.fit(chart_dataset).transform(chart_dataset)\n",
    "df_chart_tx = pd.DataFrame(te_ary_chart, columns=te_chart.columns_)\n",
    "itemsets_chart = fpgrowth(df_chart_tx, min_support=min_support, use_colnames=True).sort_values('support', ascending=False)\n",
    "rules_chart = association_rules(itemsets_chart, metric=\"confidence\", min_threshold=min_threshold).sort_values('support', ascending=False)"
   ]
  },
  {
   "cell_type": "code",
   "execution_count": 8,
   "metadata": {},
   "outputs": [
    {
     "output_type": "stream",
     "name": "stdout",
     "text": [
      "\n100 alarms analyzed (spanning 2020-12-12 00:49:27 to 2020-12-18 17:35:55)\n--------------------------------------------------\nalarm itemsets\n--------------------------------------------------\n96.0% contained the alarms: {'1m_successful'}\n55.0% contained the alarms: {'1m_bad_requests'}\n55.0% contained the alarms: {'1m_successful', '1m_bad_requests'}\n--------------------------------------------------\nalarm association rules\n--------------------------------------------------\n57.29% probability that {'1m_successful'} -> {'1m_bad_requests'} (co-occurrence=55.0%, lift=1.04)\n100.0% probability that {'1m_bad_requests'} -> {'1m_successful'} (co-occurrence=55.0%, lift=1.04)\n--------------------------------------------------\nchart itemsets\n--------------------------------------------------\n96.0% related to the charts: {'web_log_nginx.response_statuses'}\n--------------------------------------------------\nchart association rules\n--------------------------------------------------\nNone\n"
     ]
    }
   ],
   "source": [
    "# print results\n",
    "print(f'\\n{n_alarms_analyzed} alarms analyzed (spanning {when_min} to {when_max})')\n",
    "\n",
    "# alarm\n",
    "print_itemsets(itemsets_alarm, 'alarm', 50)\n",
    "print_rules(rules_alarm, 'alarm', 50)\n",
    "\n",
    "# chart\n",
    "print_itemsets(itemsets_chart, 'chart', 50)\n",
    "print_rules(rules_chart, 'chart', 50)"
   ]
  },
  {
   "cell_type": "code",
   "execution_count": 9,
   "metadata": {},
   "outputs": [
    {
     "output_type": "execute_result",
     "data": {
      "text/plain": [
       "         antecedents        consequents  antecedent support  \\\n",
       "0    (1m_successful)  (1m_bad_requests)                0.96   \n",
       "1  (1m_bad_requests)    (1m_successful)                0.55   \n",
       "\n",
       "   consequent support  support  confidence      lift  leverage  conviction  \n",
       "0                0.55     0.55    0.572917  1.041667     0.022    1.053659  \n",
       "1                0.96     0.55    1.000000  1.041667     0.022         inf  "
      ],
      "text/html": "<div>\n<style scoped>\n    .dataframe tbody tr th:only-of-type {\n        vertical-align: middle;\n    }\n\n    .dataframe tbody tr th {\n        vertical-align: top;\n    }\n\n    .dataframe thead th {\n        text-align: right;\n    }\n</style>\n<table border=\"1\" class=\"dataframe\">\n  <thead>\n    <tr style=\"text-align: right;\">\n      <th></th>\n      <th>antecedents</th>\n      <th>consequents</th>\n      <th>antecedent support</th>\n      <th>consequent support</th>\n      <th>support</th>\n      <th>confidence</th>\n      <th>lift</th>\n      <th>leverage</th>\n      <th>conviction</th>\n    </tr>\n  </thead>\n  <tbody>\n    <tr>\n      <th>0</th>\n      <td>(1m_successful)</td>\n      <td>(1m_bad_requests)</td>\n      <td>0.96</td>\n      <td>0.55</td>\n      <td>0.55</td>\n      <td>0.572917</td>\n      <td>1.041667</td>\n      <td>0.022</td>\n      <td>1.053659</td>\n    </tr>\n    <tr>\n      <th>1</th>\n      <td>(1m_bad_requests)</td>\n      <td>(1m_successful)</td>\n      <td>0.55</td>\n      <td>0.96</td>\n      <td>0.55</td>\n      <td>1.000000</td>\n      <td>1.041667</td>\n      <td>0.022</td>\n      <td>inf</td>\n    </tr>\n  </tbody>\n</table>\n</div>"
     },
     "metadata": {},
     "execution_count": 9
    }
   ],
   "source": [
    "rules_alarm"
   ]
  },
  {
   "cell_type": "code",
   "execution_count": null,
   "metadata": {},
   "outputs": [],
   "source": []
  }
 ]
}